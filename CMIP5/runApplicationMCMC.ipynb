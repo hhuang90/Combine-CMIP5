{
 "cells": [
  {
   "cell_type": "markdown",
   "metadata": {},
   "source": [
    "# Choose scenario (users' actions needed)"
   ]
  },
  {
   "cell_type": "code",
   "execution_count": null,
   "metadata": {},
   "outputs": [],
   "source": [
    "region = \"CNA\" # either \"CNA\" or \"EAS\", choose the region\n",
    "RCP = \"RCP45\" # either \"RCP45\" or \"RCP85\", choose the RCP level\n",
    "model = \"Full\" # either =\"Full\" or \"SSB\", choose the model, \"Full\" is our model and \"SSB\" is the model proposed by Sansom, P. G., D. B. Stephenson, and T. J. Bracegirdle (2017). On constraining projections of future climate using observations and simulations from multiple climate models. \n",
    "nSave = 500 # save results after multiplications of this number of iterations is reached\n",
    "nThin = 5 # the number of thinning, i.e., only one iteration is saved for every nThin iterations\n",
    "nChain = 20000 # the number of saved MCMC iterations \n",
    "nBurn = 30000 # the number of iterations for burn-in"
   ]
  },
  {
   "cell_type": "markdown",
   "metadata": {},
   "source": [
    "# Check user variables are correctly set"
   ]
  },
  {
   "cell_type": "markdown",
   "metadata": {},
   "source": [
    "## Capitalize string variables to avoid mistakes"
   ]
  },
  {
   "cell_type": "code",
   "execution_count": null,
   "metadata": {},
   "outputs": [],
   "source": [
    "region = region.upper()\n",
    "RCP = RCP.upper()\n",
    "model =  model.upper()"
   ]
  },
  {
   "cell_type": "markdown",
   "metadata": {},
   "source": [
    "## Make sure nSave, nThin, nChain, nBurn are integers"
   ]
  },
  {
   "cell_type": "code",
   "execution_count": null,
   "metadata": {},
   "outputs": [],
   "source": [
    "nSave = int(nSave)\n",
    "nThin = int(nThin)\n",
    "nChain = int(nChain)\n",
    "nBurn = int(nBurn)"
   ]
  },
  {
   "cell_type": "markdown",
   "metadata": {},
   "source": [
    "## Check variable values"
   ]
  },
  {
   "cell_type": "code",
   "execution_count": null,
   "metadata": {},
   "outputs": [],
   "source": [
    "if (region != \"CNA\") and (model != \"EAS\"):\n",
    "    print('\\x1b[1;31m'+'Error: the variable \"region\" must be either \"CNA\" or \"EAS\"!'+'\\x1b[0m')\n",
    "if (model != \"FULL\") and (model != \"SSB\"):\n",
    "    print('\\x1b[1;31m'+'Error: the variable \"model\" must be either \"FULL\" or \"SSB\"!'+'\\x1b[0m')\n",
    "if (RCP != \"RCP45\") and (model != \"RCP85\"):\n",
    "    print('\\x1b[1;31m'+'Error: the variable \"RCP\" must be either \"RCP45\" or \"RCP85\"!'+'\\x1b[0m')\n",
    "if nSave < 1:\n",
    "    print('\\x1b[1;31m'+'Error: the variable \"nSave\" must be greater than 0!'+'\\x1b[0m')\n",
    "if nThin < 1:\n",
    "    print('\\x1b[1;31m'+'Error: the variable \"nThin\" must be greater than 0!'+'\\x1b[0m')\n",
    "if nChain < 1:\n",
    "    print('\\x1b[1;31m'+'Error: the variable \"nChain\" must be greater than 0!'+'\\x1b[0m')\n",
    "if nBurn < 1:\n",
    "    print('\\x1b[1;31m'+'Error: the variable \"nBurn\" must be greater than 0!'+'\\x1b[0m')"
   ]
  },
  {
   "cell_type": "markdown",
   "metadata": {},
   "source": [
    "# File names"
   ]
  },
  {
   "cell_type": "code",
   "execution_count": null,
   "metadata": {},
   "outputs": [],
   "source": [
    "dataName=\"data/{}-{}\".format(region,RCP)\n",
    "resultName=\"results/{}-{}-{}\".format(region,RCP,model)"
   ]
  },
  {
   "cell_type": "markdown",
   "metadata": {},
   "source": [
    "# Import modules"
   ]
  },
  {
   "cell_type": "code",
   "execution_count": null,
   "metadata": {},
   "outputs": [],
   "source": [
    "from scipy import linalg as spl\n",
    "import numpy as np\n",
    "import sys\n",
    "import shelve"
   ]
  },
  {
   "cell_type": "markdown",
   "metadata": {},
   "source": [
    "# Import user modules"
   ]
  },
  {
   "cell_type": "code",
   "execution_count": null,
   "metadata": {},
   "outputs": [],
   "source": [
    "sys.path.insert(0,\"../src\")\n",
    "\n",
    "import state\n",
    "import result\n",
    "from tools import *\n",
    "from estimate_Y import *\n",
    "from estimate_X import *\n",
    "from estimate_X_withoutSpatial import *\n",
    "\n",
    "from estimate_mu import *\n",
    "from estimate_tauW import *\n",
    "\n",
    "from estimate_phi import *\n",
    "\n",
    "from estimate_phi_m import *\n",
    "from estimate_phi_m_withoutSpatial import *\n",
    "\n",
    "from estimate_gamma_m import *\n",
    "\n",
    "from estimate_phi_a import *\n",
    "from estimate_nu import *\n",
    "\n",
    "from estimate_V import *\n",
    "from estimate_tau import *\n",
    "from estimate_beta import *\n",
    "from estimate_gamma import *"
   ]
  },
  {
   "cell_type": "markdown",
   "metadata": {},
   "source": [
    "# Read Data"
   ]
  },
  {
   "cell_type": "markdown",
   "metadata": {},
   "source": [
    "## Load CMIP data"
   ]
  },
  {
   "cell_type": "code",
   "execution_count": null,
   "metadata": {},
   "outputs": [],
   "source": [
    "## XHmr: dim: M * RHm[m] * n\n",
    "## XFmr: dim: M * RFm[m] * n\n",
    "## XHm: dim: M * n\n",
    "## XFm: dim: M * n\n",
    "## W: dim: N * n\n",
    "## dist: dim: n * n\n",
    "## V: dim: M * M\n",
    "\n",
    "read_application_data(dataName);\n",
    "\n",
    "state.RHm = state.RHm.astype(\"int32\")\n",
    "state.RFm = state.RFm.astype(\"int32\")"
   ]
  },
  {
   "cell_type": "markdown",
   "metadata": {},
   "source": [
    "## Load coordinates"
   ]
  },
  {
   "cell_type": "code",
   "execution_count": null,
   "metadata": {},
   "outputs": [],
   "source": [
    "db = dbm.dumb.open('data/Coordinates','r')\n",
    "my_shelf = shelve.Shelf(db)\n",
    "\n",
    "if region == \"CNA\":\n",
    "    lon = my_shelf['cna_lon']\n",
    "    lat = my_shelf['cna_lat']\n",
    "else:\n",
    "    lon = my_shelf['eas_lon']\n",
    "    lat = my_shelf['eas_lat']\n",
    "my_shelf.close()"
   ]
  },
  {
   "cell_type": "markdown",
   "metadata": {},
   "source": [
    "## Scale distances so that the length of longest dimension is 1"
   ]
  },
  {
   "cell_type": "code",
   "execution_count": null,
   "metadata": {},
   "outputs": [],
   "source": [
    "scale = max(abs(lon.max()-lon.min()),abs(lon.max()-lon.min()))\n",
    "state.dist /= scale"
   ]
  },
  {
   "cell_type": "markdown",
   "metadata": {},
   "source": [
    "# Initial parameter assignments"
   ]
  },
  {
   "cell_type": "code",
   "execution_count": null,
   "metadata": {},
   "outputs": [],
   "source": [
    "state.nChain = nChain\n",
    "state.nBurn = nBurn\n",
    "assign_parameters();\n",
    "\n",
    "if model == \"SSB\":\n",
    "    state.covMatH = np.identity(state.n)\n",
    "    state.covMatF = np.identity(state.n)\n",
    "\n",
    "    state.invCovMatH = np.identity(state.n)\n",
    "    state.invCovMatF = np.identity(state.n)\n",
    "    \n",
    "    result.gammaHm = np.nan\n",
    "    result.gammaFm = np.nan\n",
    "\n",
    "    result.gammaH = np.nan\n",
    "    result.gammaF = np.nan\n",
    "\n",
    "    result.V = np.nan\n",
    "    result.V_one = np.nan\n",
    "    result.V_mean = np.nan"
   ]
  },
  {
   "cell_type": "markdown",
   "metadata": {},
   "source": [
    "# Run MCMC"
   ]
  },
  {
   "cell_type": "markdown",
   "metadata": {},
   "source": [
    "## Burn-in"
   ]
  },
  {
   "cell_type": "code",
   "execution_count": null,
   "metadata": {},
   "outputs": [],
   "source": [
    "for state.iteration in range(nBurn):\n",
    "    estimate_Y()\n",
    "    if model == \"FULL\":\n",
    "        estimate_X()\n",
    "    else:\n",
    "        estimate_X_withoutSpatial()\n",
    "    \n",
    "    estimate_mu()\n",
    "    estimate_tauW()\n",
    "    estimate_phi()\n",
    "    \n",
    "    if model == \"FULL\":\n",
    "        estimate_phi_m()\n",
    "        estimate_gamma_m(0.02,0.012)\n",
    "    else:\n",
    "        estimate_phi_m_withoutSpatial()\n",
    "        \n",
    "    estimate_phi_a()\n",
    "    estimate_nu()\n",
    "    if model == \"FULL\":\n",
    "        estimate_V()\n",
    "    estimate_tau()\n",
    "    estimate_beta()\n",
    "    if model == \"Full\":\n",
    "        estimate_gamma(0.08,0.08)"
   ]
  },
  {
   "cell_type": "markdown",
   "metadata": {},
   "source": [
    "## Effective runs"
   ]
  },
  {
   "cell_type": "code",
   "execution_count": null,
   "metadata": {},
   "outputs": [],
   "source": [
    "for state.iteration in range(nChain):\n",
    "    for thin in range(nThin):\n",
    "        estimate_Y()\n",
    "        if model == \"FULL\":\n",
    "            estimate_X()\n",
    "        else:\n",
    "            estimate_X_withoutSpatial()\n",
    "\n",
    "        estimate_mu()\n",
    "        estimate_tauW()\n",
    "        estimate_phi()\n",
    "\n",
    "        if model == \"FULL\":\n",
    "            estimate_phi_m()\n",
    "            estimate_gamma_m(0.02,0.012)\n",
    "        else:\n",
    "            estimate_phi_m_withoutSpatial()\n",
    "\n",
    "        estimate_phi_a()\n",
    "        estimate_nu()\n",
    "        if model == \"FULL\":\n",
    "            estimate_V()\n",
    "        estimate_tau()\n",
    "        estimate_beta()\n",
    "        if model == \"FULL\":\n",
    "            estimate_gamma(0.08,0.08)\n",
    "        \n",
    "    result.YH[state.iteration] = state.YH\n",
    "    result.YF[state.iteration] = state.YF\n",
    "    result.YHa_one[state.iteration] = state.YHa[0]\n",
    "    result.YFa_one[state.iteration] = state.YFa[0]  \n",
    "    result.YHa_mean += state.YHa\n",
    "    result.YFa_mean += state.YFa\n",
    "\n",
    "    result.XHm_one[state.iteration] = state.XHm[0,0]\n",
    "    result.XFm_one[state.iteration] = state.XFm[0,0]\n",
    "    result.XHm_mean += np.mean(state.XHm,axis=0)\n",
    "    result.XFm_mean += np.mean(state.XFm,axis=0)\n",
    "\n",
    "    result.muH[state.iteration] = state.muH\n",
    "    result.muF[state.iteration] = state.muF\n",
    "    \n",
    "    result.tauW[state.iteration] = state.tauW\n",
    "\n",
    "    result.phiH[state.iteration] = state.phiH\n",
    "    result.phiF[state.iteration] = state.phiF\n",
    "     \n",
    "    result.phiHm[state.iteration] = state.phiHm\n",
    "    result.phiFm[state.iteration] = state.phiFm\n",
    "    \n",
    "    result.phiHa[state.iteration] = state.phiHa\n",
    "    result.phiFa[state.iteration] = state.phiFa\n",
    "    \n",
    "    result.nuH[state.iteration] = state.nuH\n",
    "    result.nuF[state.iteration] = state.nuF\n",
    "\n",
    "    result.tauH[state.iteration] = state.tauH\n",
    "    result.tauF[state.iteration] = state.tauF\n",
    "    \n",
    "    result.beta[state.iteration] = state.beta\n",
    "    \n",
    "    if model == \"FULL\":\n",
    "        result.gammaHm[state.iteration] = state.gammaHm * scale\n",
    "        result.gammaFm[state.iteration] = state.gammaFm * scale\n",
    "\n",
    "        result.gammaH[state.iteration] = state.gammaH * scale\n",
    "        result.gammaF[state.iteration] = state.gammaF * scale\n",
    "        \n",
    "        result.V[state.iteration] = state.V\n",
    "        result.V_one[state.iteration] = state.V[19,20]\n",
    "        result.V_mean += state.V\n",
    "\n",
    "    # Save results constantly\n",
    "    if state.iteration%nSave == 0:\n",
    "        save_data(resultName)\n",
    "        print(\"Iteration {} completes.\".format(state.iteration))"
   ]
  },
  {
   "cell_type": "markdown",
   "metadata": {},
   "source": [
    "# Save final results"
   ]
  },
  {
   "cell_type": "code",
   "execution_count": null,
   "metadata": {},
   "outputs": [],
   "source": [
    "state.iteration += 1\n",
    "if state.iteration < state.nChain: state.nChain = iteration\n",
    "\n",
    "result.XHm_mean /= state.nChain\n",
    "result.XFm_mean /= state.nChain\n",
    "\n",
    "result.YHa_mean /= state.nChain\n",
    "result.YFa_mean /= state.nChain\n",
    "\n",
    "result.V_mean /= state.nChain"
   ]
  },
  {
   "cell_type": "code",
   "execution_count": null,
   "metadata": {},
   "outputs": [],
   "source": [
    "save_data(resultName);"
   ]
  }
 ],
 "metadata": {
  "kernelspec": {
   "display_name": "Python 3",
   "language": "python",
   "name": "python3"
  },
  "language_info": {
   "codemirror_mode": {
    "name": "ipython",
    "version": 3
   },
   "file_extension": ".py",
   "mimetype": "text/x-python",
   "name": "python",
   "nbconvert_exporter": "python",
   "pygments_lexer": "ipython3",
   "version": "3.8.1"
  }
 },
 "nbformat": 4,
 "nbformat_minor": 4
}
