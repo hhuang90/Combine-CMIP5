{
 "cells": [
  {
   "cell_type": "markdown",
   "metadata": {},
   "source": [
    "# Privode result file name (users' actions needed)"
   ]
  },
  {
   "cell_type": "markdown",
   "metadata": {},
   "source": [
    "### Change the file names accordingly if you run the MCMC again on your computer and get new result files"
   ]
  },
  {
   "cell_type": "code",
   "execution_count": 1,
   "metadata": {},
   "outputs": [],
   "source": [
    "CNA_RCP45_file = 'results/Precomputed-CNA-RCP45-Full(only-a-few-number-of-variables-are-stored-to-reduce-file-size)'\n",
    "CNA_RCP85_file = 'results/Precomputed-CNA-RCP85-Full(only-a-few-number-of-variables-are-stored-to-reduce-file-size)'\n",
    "EAS_RCP45_file = 'results/Precomputed-EAS-RCP45-Full(only-a-few-number-of-variables-are-stored-to-reduce-file-size)'\n",
    "EAS_RCP85_file = 'results/Precomputed-EAS-RCP85-Full(only-a-few-number-of-variables-are-stored-to-reduce-file-size)'\n",
    "\n",
    "CNA_RCP45_SSB_file = 'results/Precomputed-CNA-RCP45-SSB(only-a-few-number-of-variables-are-stored-to-reduce-file-size)'\n",
    "CNA_RCP85_SSB_file = 'results/Precomputed-CNA-RCP85-SSB(only-a-few-number-of-variables-are-stored-to-reduce-file-size)'\n",
    "EAS_RCP45_SSB_file = 'results/Precomputed-EAS-RCP45-SSB(only-a-few-number-of-variables-are-stored-to-reduce-file-size)'\n",
    "EAS_RCP85_SSB_file = 'results/Precomputed-EAS-RCP85-SSB(only-a-few-number-of-variables-are-stored-to-reduce-file-size)'"
   ]
  },
  {
   "cell_type": "markdown",
   "metadata": {},
   "source": [
    "# Import modules"
   ]
  },
  {
   "cell_type": "code",
   "execution_count": 2,
   "metadata": {},
   "outputs": [],
   "source": [
    "import numpy as np\n",
    "\n",
    "import shelve\n",
    "import dbm.dumb\n",
    "import matplotlib.pyplot as plt\n",
    "import seaborn as sns\n",
    "monocolor = sns.cubehelix_palette(dark=0, light=1, as_cmap=True)"
   ]
  },
  {
   "cell_type": "markdown",
   "metadata": {},
   "source": [
    "# Load data"
   ]
  },
  {
   "cell_type": "markdown",
   "metadata": {},
   "source": [
    "## Load model names"
   ]
  },
  {
   "cell_type": "code",
   "execution_count": 3,
   "metadata": {},
   "outputs": [],
   "source": [
    "db = dbm.dumb.open('data/Model-Names')\n",
    "my_shelf = shelve.Shelf(db)\n",
    "model_names = my_shelf['model_names']\n",
    "db.close()"
   ]
  },
  {
   "cell_type": "markdown",
   "metadata": {},
   "source": [
    "## Load MCMC results"
   ]
  },
  {
   "cell_type": "markdown",
   "metadata": {},
   "source": [
    "### Results from our model"
   ]
  },
  {
   "cell_type": "code",
   "execution_count": 4,
   "metadata": {},
   "outputs": [],
   "source": [
    "db = dbm.dumb.open(CNA_RCP45_file)\n",
    "my_shelf = shelve.Shelf(db)\n",
    "V_CNA_RCP45=my_shelf['result_V_mean']\n",
    "Y_CNA_RCP45 = my_shelf['result_YF']\n",
    "db.close()\n",
    "Y_CNA_RCP45.sort(axis=0)\n",
    "spMean_CNA_RCP45 = np.mean(Y_CNA_RCP45,axis=1)\n",
    "diag=np.sqrt(V_CNA_RCP45.diagonal())\n",
    "corr_CNA_RCP45 = V_CNA_RCP45 / diag;\n",
    "corr_CNA_RCP45 = corr_CNA_RCP45.transpose() / diag;\n",
    "\n",
    "db = dbm.dumb.open(CNA_RCP85_file)\n",
    "my_shelf = shelve.Shelf(db)\n",
    "V_CNA_RCP85=my_shelf['result_V_mean']\n",
    "Y_CNA_RCP85 = my_shelf['result_YF']\n",
    "db.close()\n",
    "Y_CNA_RCP85.sort(axis=0)\n",
    "spMean_CNA_RCP85 = np.mean(Y_CNA_RCP85,axis=1)\n",
    "diag=np.sqrt(V_CNA_RCP85.diagonal())\n",
    "corr_CNA_RCP85 = V_CNA_RCP85 / diag;\n",
    "corr_CNA_RCP85 = corr_CNA_RCP85.transpose() / diag;\n",
    "\n",
    "db = dbm.dumb.open(EAS_RCP45_file)\n",
    "my_shelf = shelve.Shelf(db)\n",
    "V_EAS_RCP45=my_shelf['result_V_mean']\n",
    "Y_EAS_RCP45 = my_shelf['result_YF']\n",
    "db.close()\n",
    "Y_EAS_RCP45.sort(axis=0)\n",
    "spMean_EAS_RCP45 = np.mean(Y_EAS_RCP45,axis=1)\n",
    "diag=np.sqrt(V_EAS_RCP45.diagonal())\n",
    "corr_EAS_RCP45 = V_EAS_RCP45 / diag;\n",
    "corr_EAS_RCP45 = corr_EAS_RCP45.transpose() / diag;\n",
    "\n",
    "db = dbm.dumb.open(EAS_RCP85_file)\n",
    "my_shelf = shelve.Shelf(db)\n",
    "V_EAS_RCP85=my_shelf['result_V_mean']\n",
    "Y_EAS_RCP85 = my_shelf['result_YF']\n",
    "db.close()\n",
    "Y_EAS_RCP85.sort(axis=0)\n",
    "spMean_EAS_RCP85 = np.mean(Y_EAS_RCP85,axis=1)\n",
    "diag=np.sqrt(V_EAS_RCP85.diagonal())\n",
    "corr_EAS_RCP85 = V_EAS_RCP85 / diag;\n",
    "corr_EAS_RCP85 = corr_EAS_RCP85.transpose() / diag;"
   ]
  },
  {
   "cell_type": "markdown",
   "metadata": {},
   "source": [
    "### Results from the SSB model"
   ]
  },
  {
   "cell_type": "code",
   "execution_count": 5,
   "metadata": {},
   "outputs": [],
   "source": [
    "db = dbm.dumb.open(CNA_RCP45_SSB_file)\n",
    "my_shelf = shelve.Shelf(db)\n",
    "Y_CNA_RCP45_SSB = my_shelf['result_YF']\n",
    "db.close()\n",
    "Y_CNA_RCP45_SSB.sort(axis=0)\n",
    "spMean_CNA_RCP45_SSB = np.mean(Y_CNA_RCP45_SSB,axis=1)\n",
    "\n",
    "db = dbm.dumb.open(CNA_RCP85_SSB_file)\n",
    "my_shelf = shelve.Shelf(db)\n",
    "Y_CNA_RCP85_SSB = my_shelf['result_YF']\n",
    "db.close()\n",
    "Y_CNA_RCP85_SSB.sort(axis=0)\n",
    "spMean_CNA_RCP85_SSB = np.mean(Y_CNA_RCP85_SSB,axis=1)\n",
    "\n",
    "db = dbm.dumb.open(EAS_RCP45_SSB_file)\n",
    "my_shelf = shelve.Shelf(db)\n",
    "Y_EAS_RCP45_SSB = my_shelf['result_YF']\n",
    "db.close()\n",
    "Y_EAS_RCP45_SSB.sort(axis=0)\n",
    "spMean_EAS_RCP45_SSB = np.mean(Y_EAS_RCP45_SSB,axis=1)\n",
    "\n",
    "db = dbm.dumb.open(EAS_RCP85_SSB_file)\n",
    "my_shelf = shelve.Shelf(db)\n",
    "Y_EAS_RCP85_SSB = my_shelf['result_YF']\n",
    "db.close()\n",
    "Y_EAS_RCP85_SSB.sort(axis=0)\n",
    "spMean_EAS_RCP85_SSB = np.mean(Y_EAS_RCP85_SSB,axis=1)"
   ]
  },
  {
   "cell_type": "markdown",
   "metadata": {},
   "source": [
    "## Load coordinates"
   ]
  },
  {
   "cell_type": "code",
   "execution_count": 6,
   "metadata": {},
   "outputs": [],
   "source": [
    "db = dbm.dumb.open('data/Coordinates','r')\n",
    "my_shelf = shelve.Shelf(db)\n",
    "\n",
    "cna_lon = my_shelf['cna_lon']\n",
    "cna_lat = my_shelf['cna_lat']\n",
    "eas_lon = my_shelf['eas_lon']\n",
    "eas_lat = my_shelf['eas_lat']\n",
    "ma = my_shelf['ma']\n",
    "\n",
    "my_shelf.close()\n",
    "\n",
    "index = np.where(~ma.mask.flatten())"
   ]
  },
  {
   "cell_type": "markdown",
   "metadata": {},
   "source": [
    "## Calculate Multi-Model Mean"
   ]
  },
  {
   "cell_type": "code",
   "execution_count": 7,
   "metadata": {},
   "outputs": [],
   "source": [
    "MMM_CNA_RCP45 = np.zeros(64)\n",
    "MMM_CNA_RCP85 = np.zeros(64)\n",
    "\n",
    "MMM_EAS_RCP45 = np.zeros(216)\n",
    "MMM_EAS_RCP85 = np.zeros(216)\n",
    "\n",
    "db = dbm.dumb.open('data/CNA-RCP45')\n",
    "CNA = shelve.Shelf(db)\n",
    "for m in range(38):\n",
    "    for r in range(CNA['RFm'][m]):\n",
    "        MMM_CNA_RCP45 += CNA['XFmr'][m,r,]\n",
    "MMM_CNA_RCP45 /= sum(CNA['RFm'])\n",
    "MMM_CNA_RCP45 = MMM_CNA_RCP45.reshape(8,8)\n",
    "db.close()\n",
    "\n",
    "db = dbm.dumb.open('data/CNA-RCP85')\n",
    "CNA = shelve.Shelf(db)\n",
    "for m in range(38):\n",
    "    for r in range(CNA['RFm'][m]):\n",
    "        MMM_CNA_RCP85 += CNA['XFmr'][m,r,]\n",
    "MMM_CNA_RCP85 /= sum(CNA['RFm'])\n",
    "MMM_CNA_RCP85 = MMM_CNA_RCP85.reshape(8,8)\n",
    "db.close()\n",
    "\n",
    "db = dbm.dumb.open('data/EAS-RCP45')\n",
    "EAS = shelve.Shelf(db)\n",
    "for m in range(38):\n",
    "    for r in range(EAS['RFm'][m]):\n",
    "        MMM_EAS_RCP45[index] += EAS['XFmr'][m,r,]\n",
    "MMM_EAS_RCP45 /= sum(EAS['RFm'])\n",
    "MMM_EAS_RCP45 = MMM_EAS_RCP45.reshape(12,-1)\n",
    "MMM_EAS_RCP45 = np.ma.masked_where(ma.mask,MMM_EAS_RCP45)\n",
    "db.close()\n",
    "\n",
    "db = dbm.dumb.open('data/EAS-RCP85')\n",
    "EAS = shelve.Shelf(db)\n",
    "for m in range(38):\n",
    "    for r in range(EAS['RFm'][m]):\n",
    "        MMM_EAS_RCP85[index] += EAS['XFmr'][m,r,]\n",
    "MMM_EAS_RCP85 /= sum(EAS['RFm'])\n",
    "MMM_EAS_RCP85 = MMM_EAS_RCP85.reshape(12,-1)\n",
    "MMM_EAS_RCP85 = np.ma.masked_where(ma.mask,MMM_EAS_RCP85)\n",
    "db.close()"
   ]
  },
  {
   "cell_type": "markdown",
   "metadata": {},
   "source": [
    "## Calculate quantiles"
   ]
  },
  {
   "cell_type": "code",
   "execution_count": 8,
   "metadata": {},
   "outputs": [],
   "source": [
    "quantile_CNA_RCP45 = MMM_CNA_RCP45.copy()\n",
    "quantile_CNA_RCP85 = MMM_CNA_RCP85.copy()\n",
    "quantile_EAS_RCP45 = MMM_EAS_RCP45.copy()\n",
    "quantile_EAS_RCP85 = MMM_EAS_RCP85.copy()\n",
    "\n",
    "for i in range(8):\n",
    "    for j in range(8):\n",
    "        quantile_CNA_RCP45[i,j] = np.argmin(MMM_CNA_RCP45[i,j] > Y_CNA_RCP45[:,i*8+j])/20000\n",
    "        quantile_CNA_RCP85[i,j] = np.argmin(MMM_CNA_RCP85[i,j] > Y_CNA_RCP85[:,i*8+j])/20000\n",
    "\n",
    "ct = 0;\n",
    "for i in range(eas_lat.shape[0]):\n",
    "    for j in range(eas_lon.shape[0]):\n",
    "        if ma.mask[i,j]: continue\n",
    "        quantile_EAS_RCP45[i,j] = np.argmin(MMM_EAS_RCP45[i,j] > Y_EAS_RCP45[:,ct])/20000\n",
    "        quantile_EAS_RCP85[i,j] = np.argmin(MMM_EAS_RCP85[i,j] > Y_EAS_RCP85[:,ct])/20000\n",
    "        ct += 1"
   ]
  },
  {
   "cell_type": "code",
   "execution_count": 9,
   "metadata": {},
   "outputs": [],
   "source": [
    "quantile_CNA_RCP45_SSB = MMM_CNA_RCP45.copy()\n",
    "quantile_CNA_RCP85_SSB = MMM_CNA_RCP85.copy()\n",
    "quantile_EAS_RCP45_SSB = MMM_EAS_RCP45.copy()\n",
    "quantile_EAS_RCP85_SSB = MMM_EAS_RCP85.copy()\n",
    "\n",
    "for i in range(8):\n",
    "    for j in range(8):\n",
    "        quantile_CNA_RCP45_SSB[i,j] = np.argmin(MMM_CNA_RCP45[i,j] > Y_CNA_RCP45_SSB[:,i*8+j])/20000\n",
    "        quantile_CNA_RCP85_SSB[i,j] = np.argmin(MMM_CNA_RCP85[i,j] > Y_CNA_RCP85_SSB[:,i*8+j])/20000\n",
    "\n",
    "ct = 0;\n",
    "for i in range(eas_lat.shape[0]):\n",
    "    for j in range(eas_lon.shape[0]):\n",
    "        if ma.mask[i,j]: continue\n",
    "        quantile_EAS_RCP45_SSB[i,j] = np.argmin(MMM_EAS_RCP45[i,j] > Y_EAS_RCP45_SSB[:,ct])/20000\n",
    "        quantile_EAS_RCP85_SSB[i,j] = np.argmin(MMM_EAS_RCP85[i,j] > Y_EAS_RCP85_SSB[:,ct])/20000\n",
    "        ct += 1"
   ]
  },
  {
   "cell_type": "markdown",
   "metadata": {},
   "source": [
    "# Show summary"
   ]
  },
  {
   "cell_type": "markdown",
   "metadata": {},
   "source": [
    "## Draw quantiles"
   ]
  },
  {
   "cell_type": "code",
   "execution_count": 10,
   "metadata": {},
   "outputs": [
    {
     "data": {
      "image/png": "[encoded data removed]",
      "text/plain": [
       "<Figure size 1440x288 with 8 Axes>"
      ]
     },
     "metadata": {
      "needs_background": "light"
     },
     "output_type": "display_data"
    }
   ],
   "source": [
    "from mpl_toolkits.axes_grid1 import make_axes_locatable\n",
    "\n",
    "fig, _ = plt.subplots(nrows=1,ncols=4,figsize=(20,4))\n",
    "plt.subplots_adjust(top = 0.75,bottom = 0.23, left =0.05, right = 0.95, wspace=0.5,hspace = 0.5)\n",
    "\n",
    "plt.subplot2grid((1,4),(0,0))\n",
    "plt.imshow(quantile_CNA_RCP45,origin='lower',vmin = 0, vmax = 1, cmap = plt.cm.RdBu_r)\n",
    "plt.xticks(np.array([0,3,7]),cna_lon[[0,3,7]])\n",
    "plt.yticks(np.array([0,3,7]),cna_lat[[0,3,7]])\n",
    "plt.xlabel(\"longitude\")\n",
    "plt.ylabel(\"latitude\")\n",
    "ax = plt.gca()\n",
    "divider = make_axes_locatable(ax)\n",
    "cax = divider.append_axes(\"right\", size=\"5%\", pad=0.1)\n",
    "cbar = plt.colorbar(cax=cax,ticks=[0,0.25,0.5,0.75,1])\n",
    "cbar.ax.set_yticklabels(['0%','25%','50%','75%','100%'])\n",
    "\n",
    "plt.subplot2grid((1,4),(0,1))\n",
    "plt.imshow(quantile_CNA_RCP85,origin='lower',vmin = 0, vmax = 1, cmap = plt.cm.RdBu_r)\n",
    "plt.xticks(np.array([0,3,7]),cna_lon[[0,3,7]])\n",
    "plt.yticks(np.array([0,3,7]),cna_lat[[0,3,7]])\n",
    "plt.xlabel(\"longitude\")\n",
    "plt.ylabel(\"latitude\")\n",
    "ax = plt.gca()\n",
    "divider = make_axes_locatable(ax)\n",
    "cax = divider.append_axes(\"right\", size=\"5%\", pad=0.1)\n",
    "cbar = plt.colorbar(cax=cax,ticks=[0,0.25,0.5,0.75,1])\n",
    "cbar.ax.set_yticklabels(['0%','25%','50%','75%','100%'])\n",
    "\n",
    "\n",
    "plt.subplot2grid((1,4),(0,2))\n",
    "plt.imshow(quantile_EAS_RCP45,origin='lower',vmin = 0, vmax = 1, cmap = plt.cm.RdBu_r)\n",
    "plt.xticks(np.array([0,6,12,17]),eas_lon[[0,6,12,17]])\n",
    "plt.yticks(np.array([0,6,11]),eas_lat[[0,6,11]])\n",
    "plt.xlabel(\"longitude\")\n",
    "plt.ylabel(\"latitude\")\n",
    "ax = plt.gca()\n",
    "divider = make_axes_locatable(ax)\n",
    "cax = divider.append_axes(\"right\", size=\"5%\", pad=0.1)\n",
    "cbar = plt.colorbar(cax=cax,ticks=[0,0.25,0.5,0.75,1])\n",
    "cbar.ax.set_yticklabels(['0%','25%','50%','75%','100%'])\n",
    "\n",
    "plt.subplot2grid((1,4),(0,3))\n",
    "plt.imshow(quantile_EAS_RCP85,origin='lower',vmin = 0, vmax = 1, cmap = plt.cm.RdBu_r)\n",
    "plt.xticks(np.array([0,6,12,17]),eas_lon[[0,6,12,17]])\n",
    "plt.yticks(np.array([0,6,11]),eas_lat[[0,6,11]])\n",
    "plt.xlabel(\"longitude\")\n",
    "plt.ylabel(\"latitude\")\n",
    "ax = plt.gca()\n",
    "divider = make_axes_locatable(ax)\n",
    "cax = divider.append_axes(\"right\", size=\"5%\", pad=0.1)\n",
    "cbar = plt.colorbar(cax=cax,ticks=[0,0.25,0.5,0.75,1])\n",
    "cbar.ax.set_yticklabels(['0%','25%','50%','75%','100%'])\n",
    "\n",
    "fig.text(0.0705,0.01,'CNA-RCP4.5',fontsize=25,fontweight='bold')\n",
    "fig.text(0.317,0.01,'CNA-RCP8.5',fontsize=25,fontweight='bold')\n",
    "fig.text(0.563,0.01,'EAS-RCP4.5',fontsize=25,fontweight='bold')\n",
    "fig.text(0.81,0.01,'EAS-RCP8.5',fontsize=25,fontweight='bold')\n",
    "\n",
    "fig.text(0.09,0.9,r'Corresponding probabilities of quantiles in the posterior distribution of $Y_F$ equal to $\\barY_F$',fontsize=25,fontweight='bold');"
   ]
  },
  {
   "cell_type": "markdown",
   "metadata": {},
   "source": [
    "## Show the region mean results"
   ]
  },
  {
   "cell_type": "code",
   "execution_count": 11,
   "metadata": {},
   "outputs": [
    {
     "name": "stdout",
     "output_type": "stream",
     "text": [
      "1. Over the \u001b[1;31mCNA\u001b[0m region under \u001b[1;31mRCP45\u001b[0m : Our predicted mean temperature for 2070-2100 is \u001b[1;31m-0.71\u001b[0m degrees higher than the model mean with a 90% credible interval \u001b[1;31m[285.02, 288.42]\u001b[0m \n",
      "2. Over the \u001b[1;31mCNA\u001b[0m region under \u001b[1;31mRCP85\u001b[0m : Our predicted mean temperature for 2070-2100 is \u001b[1;31m-0.84\u001b[0m degrees higher than the model mean with a 90% credible interval \u001b[1;31m[286.55, 290.77]\u001b[0m \n",
      "3. Over the \u001b[1;31mEAS\u001b[0m region under \u001b[1;31mRCP45\u001b[0m : Our predicted mean temperature for 2070-2100 is \u001b[1;31m0.49\u001b[0m degrees higher than the model mean with a 90% credible interval \u001b[1;31m[281.06, 286.22]\u001b[0m \n",
      "4. Over the \u001b[1;31mEAS\u001b[0m region under \u001b[1;31mRCP85\u001b[0m : Our predicted mean temperature for 2070-2100 is \u001b[1;31m0.42\u001b[0m degrees higher than the model mean with a 90% credible interval \u001b[1;31m[282.60, 288.75]\u001b[0m \n",
      "\n",
      "5. Over the \u001b[1;31mCNA\u001b[0m region under \u001b[1;31mRCP45\u001b[0m : The predicted mean temperature from the SSB model for 2070-2100 is \u001b[1;31m-0.67\u001b[0m degrees higher than the model mean with a 90% credible interval \u001b[1;31m[285.16, 288.21]\u001b[0m \n",
      "6. Over the \u001b[1;31mCNA\u001b[0m region under \u001b[1;31mRCP85\u001b[0m : The predicted mean temperature from the SSB model for 2070-2100 is \u001b[1;31m-0.65\u001b[0m degrees higher than the model mean with a 90% credible interval \u001b[1;31m[287.25, 290.68]\u001b[0m \n",
      "7. Over the \u001b[1;31mEAS\u001b[0m region under \u001b[1;31mRCP45\u001b[0m : The predicted mean temperature from the SSB model for 2070-2100 is \u001b[1;31m0.51\u001b[0m degrees higher than the model mean with a 90% credible interval \u001b[1;31m[282.10, 285.24]\u001b[0m \n",
      "8. Over the \u001b[1;31mEAS\u001b[0m region under \u001b[1;31mRCP85\u001b[0m : The predicted mean temperature from the SSB model for 2070-2100 is \u001b[1;31m0.48\u001b[0m degrees higher than the model mean with a 90% credible interval \u001b[1;31m[284.21, 287.59]\u001b[0m \n"
     ]
    }
   ],
   "source": [
    "highlight = lambda x: ' \\x1b[1;31m'+x+'\\x1b[0m '\n",
    "\n",
    "print('1. Over the'+highlight(\"CNA\")+'region under'+highlight('RCP45')+': Our predicted mean temperature for 2070-2100 is'\\\n",
    "      +highlight('{:.2f}'.format(np.mean(spMean_CNA_RCP45)-np.mean(MMM_CNA_RCP45)))\\\n",
    "      +'degrees higher than the model mean with a 90% credible interval'\\\n",
    "      +highlight('[{:.2f}, {:.2f}]'.format(spMean_CNA_RCP45[int(20000*0.05)],spMean_CNA_RCP45[int(20000*0.95)])))\n",
    "\n",
    "print('2. Over the'+highlight(\"CNA\")+'region under'+highlight('RCP85')+': Our predicted mean temperature for 2070-2100 is'\\\n",
    "      +highlight('{:.2f}'.format(np.mean(spMean_CNA_RCP85)-np.mean(MMM_CNA_RCP85)))\\\n",
    "      +'degrees higher than the model mean with a 90% credible interval'\\\n",
    "      +highlight('[{:.2f}, {:.2f}]'.format(spMean_CNA_RCP85[int(20000*0.05)],spMean_CNA_RCP85[int(20000*0.95)])))\n",
    "\n",
    "print('3. Over the'+highlight(\"EAS\")+'region under'+highlight('RCP45')+': Our predicted mean temperature for 2070-2100 is'\\\n",
    "      +highlight('{:.2f}'.format(np.mean(spMean_EAS_RCP45)-np.mean(MMM_EAS_RCP45)))\\\n",
    "      +'degrees higher than the model mean with a 90% credible interval'\\\n",
    "      +highlight('[{:.2f}, {:.2f}]'.format(spMean_EAS_RCP45[int(20000*0.05)],spMean_EAS_RCP45[int(20000*0.95)])))\n",
    "\n",
    "print('4. Over the'+highlight(\"EAS\")+'region under'+highlight('RCP85')+': Our predicted mean temperature for 2070-2100 is'\\\n",
    "      +highlight('{:.2f}'.format(np.mean(spMean_EAS_RCP85)-np.mean(MMM_EAS_RCP85)))\\\n",
    "      +'degrees higher than the model mean with a 90% credible interval'\\\n",
    "      +highlight('[{:.2f}, {:.2f}]'.format(spMean_EAS_RCP85[int(20000*0.05)],spMean_EAS_RCP85[int(20000*0.95)])))\n",
    "\n",
    "print('')\n",
    "\n",
    "print('5. Over the'+highlight(\"CNA\")+'region under'+highlight('RCP45')+': The predicted mean temperature from the SSB model for 2070-2100 is'\\\n",
    "      +highlight('{:.2f}'.format(np.mean(spMean_CNA_RCP45_SSB)-np.mean(MMM_CNA_RCP45)))\\\n",
    "      +'degrees higher than the model mean with a 90% credible interval'\\\n",
    "      +highlight('[{:.2f}, {:.2f}]'.format(spMean_CNA_RCP45_SSB[int(20000*0.05)],spMean_CNA_RCP45_SSB[int(20000*0.95)])))\n",
    "\n",
    "print('6. Over the'+highlight(\"CNA\")+'region under'+highlight('RCP85')+': The predicted mean temperature from the SSB model for 2070-2100 is'\\\n",
    "      +highlight('{:.2f}'.format(np.mean(spMean_CNA_RCP85_SSB)-np.mean(MMM_CNA_RCP85)))\\\n",
    "      +'degrees higher than the model mean with a 90% credible interval'\\\n",
    "      +highlight('[{:.2f}, {:.2f}]'.format(spMean_CNA_RCP85_SSB[int(20000*0.05)],spMean_CNA_RCP85_SSB[int(20000*0.95)])))\n",
    "\n",
    "print('7. Over the'+highlight(\"EAS\")+'region under'+highlight('RCP45')+': The predicted mean temperature from the SSB model for 2070-2100 is'\\\n",
    "      +highlight('{:.2f}'.format(np.mean(spMean_EAS_RCP45_SSB)-np.mean(MMM_EAS_RCP45)))\\\n",
    "      +'degrees higher than the model mean with a 90% credible interval'\\\n",
    "      +highlight('[{:.2f}, {:.2f}]'.format(spMean_EAS_RCP45_SSB[int(20000*0.05)],spMean_EAS_RCP45_SSB[int(20000*0.95)])))\n",
    "\n",
    "print('8. Over the'+highlight(\"EAS\")+'region under'+highlight('RCP85')+': The predicted mean temperature from the SSB model for 2070-2100 is'\\\n",
    "      +highlight('{:.2f}'.format(np.mean(spMean_EAS_RCP85_SSB)-np.mean(MMM_EAS_RCP85)))\\\n",
    "      +'degrees higher than the model mean with a 90% credible interval'\\\n",
    "      +highlight('[{:.2f}, {:.2f}]'.format(spMean_EAS_RCP85_SSB[int(20000*0.05)],spMean_EAS_RCP85_SSB[int(20000*0.95)])))"
   ]
  },
  {
   "cell_type": "markdown",
   "metadata": {},
   "source": [
    "## Draw correlation estimates among all the climate models"
   ]
  },
  {
   "cell_type": "code",
   "execution_count": 12,
   "metadata": {},
   "outputs": [
    {
     "data": {
      "image/png": "[encoded data removed]",
      "text/plain": [
       "<Figure size 1440x360 with 8 Axes>"
      ]
     },
     "metadata": {
      "needs_background": "light"
     },
     "output_type": "display_data"
    }
   ],
   "source": [
    "from mpl_toolkits.axes_grid1 import make_axes_locatable\n",
    "\n",
    "fig, _ = plt.subplots(nrows=1,ncols=4,figsize=(20,5))\n",
    "plt.subplots_adjust(top = 0.85,bottom = 0.05, left =0.05, right = 0.95, wspace=0.5)\n",
    "\n",
    "plt.subplot(141)\n",
    "plt.imshow(corr_CNA_RCP45,cmap=plt.cm.get_cmap('RdBu_r',8),vmin=-1,vmax=1)\n",
    "plt.title('CNA-RCP4.5',fontsize=14,fontweight='bold',y=1.02,style='italic')\n",
    "plt.xlabel(\"model index\",fontsize=14)\n",
    "plt.ylabel(\"model index\",fontsize=14)\n",
    "plt.xticks(np.array([1,11,21,31,38])-1,np.array([1,11,21,31,38]))\n",
    "plt.yticks(np.array([1,11,21,31,38])-1,np.array([1,11,21,31,38]))\n",
    "ax = plt.gca()\n",
    "divider = make_axes_locatable(ax)\n",
    "cax = divider.append_axes(\"right\", size=\"5%\", pad=0.1)\n",
    "cbar = plt.colorbar(cax=cax,ticks=np.linspace(-1,1,9))\n",
    "\n",
    "plt.subplot(142)\n",
    "plt.imshow(corr_CNA_RCP85,cmap=plt.cm.get_cmap('RdBu_r',8),vmin=-1,vmax=1)\n",
    "plt.title('CNA-RCP8.5',fontsize=14,fontweight='bold',y=1.02,style='italic')\n",
    "plt.xlabel(\"model index\",fontsize=14)\n",
    "plt.ylabel(\"model index\",fontsize=14)\n",
    "plt.xticks(np.array([1,11,21,31,38])-1,np.array([1,11,21,31,38]))\n",
    "plt.yticks(np.array([1,11,21,31,38])-1,np.array([1,11,21,31,38]))\n",
    "ax = plt.gca()\n",
    "divider = make_axes_locatable(ax)\n",
    "cax = divider.append_axes(\"right\", size=\"5%\", pad=0.1)\n",
    "cbar = plt.colorbar(cax=cax,ticks=np.linspace(-1,1,9))\n",
    "\n",
    "\n",
    "plt.subplot(143)\n",
    "plt.imshow(corr_EAS_RCP45,cmap=plt.cm.get_cmap('RdBu_r',8),vmin=-1,vmax=1)\n",
    "plt.title('EAS-RCP4.5',fontsize=14,fontweight='bold',y=1.02,style='italic')\n",
    "plt.xlabel(\"model index\",fontsize=14)\n",
    "plt.ylabel(\"model index\",fontsize=14)\n",
    "plt.xticks(np.array([1,11,21,31,38])-1,np.array([1,11,21,31,38]))\n",
    "plt.yticks(np.array([1,11,21,31,38])-1,np.array([1,11,21,31,38]))\n",
    "ax = plt.gca()\n",
    "divider = make_axes_locatable(ax)\n",
    "cax = divider.append_axes(\"right\", size=\"5%\", pad=0.1)\n",
    "cbar = plt.colorbar(cax=cax,ticks=np.linspace(-1,1,9))\n",
    "\n",
    "plt.subplot(144)\n",
    "plt.imshow(corr_EAS_RCP85,cmap=plt.cm.get_cmap('RdBu_r',8),vmin=-1,vmax=1)\n",
    "plt.title('EAS-RCP8.5',fontsize=14,fontweight='bold',y=1.02,style='italic')\n",
    "plt.xlabel(\"model index\",fontsize=14)\n",
    "plt.ylabel(\"model index\",fontsize=14)\n",
    "plt.xticks(np.array([1,11,21,31,38])-1,np.array([1,11,21,31,38]))\n",
    "plt.yticks(np.array([1,11,21,31,38])-1,np.array([1,11,21,31,38]))\n",
    "ax = plt.gca()\n",
    "divider = make_axes_locatable(ax)\n",
    "cax = divider.append_axes(\"right\", size=\"5%\", pad=0.1)\n",
    "cbar = plt.colorbar(cax=cax,ticks=np.linspace(-1,1,9))\n",
    "\n",
    "fig.text(0.21,0.92,'Correlation estimates among climate models',fontsize=30,fontweight='bold');"
   ]
  },
  {
   "cell_type": "markdown",
   "metadata": {},
   "source": [
    "## Dump model pair name with correlation greater than 0.7"
   ]
  },
  {
   "cell_type": "code",
   "execution_count": 13,
   "metadata": {},
   "outputs": [
    {
     "name": "stdout",
     "output_type": "stream",
     "text": [
      "CCSM4  ~  CESM1-BGC : 0.98, 0.98, 0.98, 0.98\n",
      "CMCC-CMS  ~  MPI-ESM-LR : 0.79, 0.78, 0.74, 0.83\n",
      "GFDL-ESM2G  ~  GFDL-ESM2M : 0.89, 0.88, 0.99, 0.99\n",
      "GISS-E2-H  ~  GISS-E2-H-CC : 0.93, 0.93, 0.97, 0.97\n",
      "GISS-E2-R  ~  GISS-E2-R-CC : 0.94, 0.96, 0.98, 0.98\n",
      "HadGEM2-AO  ~  HadGEM2-CC : 0.76, 0.77, 0.92, 0.93\n",
      "IPSL-CM5A-LR  ~  IPSL-CM5B-LR : 0.81, 0.79, 0.90, 0.94\n",
      "MIROC-ESM  ~  MIROC-ESM-CHEM : 0.88, 0.94, 0.98, 0.99\n",
      "MPI-ESM-LR  ~  MPI-ESM-MR : 0.94, 0.94, 0.93, 0.95\n",
      "NorESM1-M  ~  NorESM1-ME : 0.95, 0.96, 0.98, 0.99\n"
     ]
    }
   ],
   "source": [
    "check = np.where(np.logical_and(np.logical_and(corr_CNA_RCP45>0.7 , corr_CNA_RCP85>0.7),\\\n",
    "                                np.logical_and(corr_EAS_RCP45>0.7,  corr_EAS_RCP85>0.7)))\n",
    "for i in range(len(check[0])):\n",
    "    if check[0][i] < check[1][i]:\n",
    "        print(\"{}  ~  {} : {:.2f}, {:.2f}, {:.2f}, {:.2f}\"\\\n",
    "            .format(model_names[check[0][i]],model_names[check[1][i]],\\\n",
    "            corr_CNA_RCP45[check[0][i],check[1][i]],\\\n",
    "            corr_CNA_RCP85[check[0][i],check[1][i]],\\\n",
    "            corr_EAS_RCP45[check[0][i],check[1][i]],\\\n",
    "            corr_EAS_RCP85[check[0][i],check[1][i]]))"
   ]
  }
 ],
 "metadata": {
  "kernelspec": {
   "display_name": "Python 3",
   "language": "python",
   "name": "python3"
  },
  "language_info": {
   "codemirror_mode": {
    "name": "ipython",
    "version": 3
   },
   "file_extension": ".py",
   "mimetype": "text/x-python",
   "name": "python",
   "nbconvert_exporter": "python",
   "pygments_lexer": "ipython3",
   "version": "3.8.1"
  }
 },
 "nbformat": 4,
 "nbformat_minor": 4
}
